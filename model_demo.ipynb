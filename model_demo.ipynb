{
 "cells": [
  {
   "cell_type": "code",
   "execution_count": 1,
   "id": "00a5343d",
   "metadata": {},
   "outputs": [],
   "source": [
    "import pandas as pd\n",
    "from elements import Player, Lobby, SkillBasedMatchMaking\n",
    "from itertools import permutations, combinations\n",
    "from dataclasses import asdict"
   ]
  },
  {
   "cell_type": "code",
   "execution_count": 2,
   "id": "235e9959",
   "metadata": {
    "scrolled": true
   },
   "outputs": [
    {
     "name": "stdout",
     "output_type": "stream",
     "text": [
      "(300, 3)\n"
     ]
    }
   ],
   "source": [
    "df = pd.read_csv('./player_data.csv')\n",
    "df['index'] = list(range(len(df)))\n",
    "print(df.shape)"
   ]
  },
  {
   "cell_type": "code",
   "execution_count": 3,
   "id": "4d871e98",
   "metadata": {},
   "outputs": [
    {
     "data": {
      "text/html": [
       "<div>\n",
       "<style scoped>\n",
       "    .dataframe tbody tr th:only-of-type {\n",
       "        vertical-align: middle;\n",
       "    }\n",
       "\n",
       "    .dataframe tbody tr th {\n",
       "        vertical-align: top;\n",
       "    }\n",
       "\n",
       "    .dataframe thead th {\n",
       "        text-align: right;\n",
       "    }\n",
       "</style>\n",
       "<table border=\"1\" class=\"dataframe\">\n",
       "  <thead>\n",
       "    <tr style=\"text-align: right;\">\n",
       "      <th></th>\n",
       "      <th>Player</th>\n",
       "      <th>KD</th>\n",
       "      <th>index</th>\n",
       "    </tr>\n",
       "  </thead>\n",
       "  <tbody>\n",
       "    <tr>\n",
       "      <th>218</th>\n",
       "      <td>P219</td>\n",
       "      <td>3.745856</td>\n",
       "      <td>218</td>\n",
       "    </tr>\n",
       "    <tr>\n",
       "      <th>4</th>\n",
       "      <td>P5</td>\n",
       "      <td>1.595561</td>\n",
       "      <td>4</td>\n",
       "    </tr>\n",
       "    <tr>\n",
       "      <th>122</th>\n",
       "      <td>P123</td>\n",
       "      <td>2.021105</td>\n",
       "      <td>122</td>\n",
       "    </tr>\n",
       "    <tr>\n",
       "      <th>40</th>\n",
       "      <td>P41</td>\n",
       "      <td>2.013263</td>\n",
       "      <td>40</td>\n",
       "    </tr>\n",
       "    <tr>\n",
       "      <th>69</th>\n",
       "      <td>P70</td>\n",
       "      <td>2.592140</td>\n",
       "      <td>69</td>\n",
       "    </tr>\n",
       "    <tr>\n",
       "      <th>175</th>\n",
       "      <td>P176</td>\n",
       "      <td>2.041747</td>\n",
       "      <td>175</td>\n",
       "    </tr>\n",
       "    <tr>\n",
       "      <th>41</th>\n",
       "      <td>P42</td>\n",
       "      <td>2.844860</td>\n",
       "      <td>41</td>\n",
       "    </tr>\n",
       "    <tr>\n",
       "      <th>130</th>\n",
       "      <td>P131</td>\n",
       "      <td>1.828485</td>\n",
       "      <td>130</td>\n",
       "    </tr>\n",
       "    <tr>\n",
       "      <th>32</th>\n",
       "      <td>P33</td>\n",
       "      <td>2.969554</td>\n",
       "      <td>32</td>\n",
       "    </tr>\n",
       "    <tr>\n",
       "      <th>125</th>\n",
       "      <td>P126</td>\n",
       "      <td>2.428684</td>\n",
       "      <td>125</td>\n",
       "    </tr>\n",
       "  </tbody>\n",
       "</table>\n",
       "</div>"
      ],
      "text/plain": [
       "    Player        KD  index\n",
       "218   P219  3.745856    218\n",
       "4       P5  1.595561      4\n",
       "122   P123  2.021105    122\n",
       "40     P41  2.013263     40\n",
       "69     P70  2.592140     69\n",
       "175   P176  2.041747    175\n",
       "41     P42  2.844860     41\n",
       "130   P131  1.828485    130\n",
       "32     P33  2.969554     32\n",
       "125   P126  2.428684    125"
      ]
     },
     "execution_count": 3,
     "metadata": {},
     "output_type": "execute_result"
    }
   ],
   "source": [
    "df.sample(10)"
   ]
  },
  {
   "cell_type": "code",
   "execution_count": 4,
   "id": "8d823cd2",
   "metadata": {},
   "outputs": [],
   "source": [
    "players = [Player(index=p['index'], kill_score=p['KD']) for p in df.to_dict('records')]\n",
    "lobbies = [Lobby(index=0,name='A', score=4.25),\n",
    "           Lobby(index=1,name='B', score=5.0),\n",
    "           Lobby(index=2,name='C', score=5.75)]"
   ]
  },
  {
   "cell_type": "code",
   "execution_count": 5,
   "id": "8a4602c6",
   "metadata": {},
   "outputs": [],
   "source": [
    "index_to_player = {rec['index']: rec for rec in df.to_dict('records')}\n",
    "index_to_lobby = {loby.index : asdict(loby) for loby in lobbies}"
   ]
  },
  {
   "cell_type": "code",
   "execution_count": 6,
   "id": "09746ea0",
   "metadata": {},
   "outputs": [],
   "source": [
    "skillBasedMatching = SkillBasedMatchMaking(players=players, lobbies=lobbies, party_index=[(0, 21), (1, 33)])"
   ]
  },
  {
   "cell_type": "code",
   "execution_count": 7,
   "id": "42bb08f6",
   "metadata": {},
   "outputs": [
    {
     "name": "stdout",
     "output_type": "stream",
     "text": [
      "CPU times: user 1min 1s, sys: 4.1 s, total: 1min 5s\n",
      "Wall time: 1min 8s\n"
     ]
    }
   ],
   "source": [
    "%%time\n",
    "\n",
    "skillBasedMatching.process()"
   ]
  },
  {
   "cell_type": "code",
   "execution_count": 8,
   "id": "3ac6ced5",
   "metadata": {},
   "outputs": [
    {
     "data": {
      "text/plain": [
       "0"
      ]
     },
     "execution_count": 8,
     "metadata": {},
     "output_type": "execute_result"
    }
   ],
   "source": [
    "skillBasedMatching.status"
   ]
  },
  {
   "cell_type": "code",
   "execution_count": 9,
   "id": "6ca17061",
   "metadata": {},
   "outputs": [],
   "source": [
    "l_f =[]\n",
    "s_v = []\n",
    "for k,v in skillBasedMatching.X.items():\n",
    "    if v.solution_value() > 0.1:\n",
    "        l_f.append(k)\n",
    "        s_v.append(v.solution_value())"
   ]
  },
  {
   "cell_type": "code",
   "execution_count": 10,
   "id": "a3b41d95",
   "metadata": {},
   "outputs": [],
   "source": [
    "final_op = []\n",
    "for _ in l_f:\n",
    "    p1, p2, l = index_to_player[_[0]], index_to_player[_[1]], index_to_lobby[_[2]]\n",
    "    final_op.append({'player_1': p1['Player'],\n",
    "                     'player_1_kill_score': p1['KD'],\n",
    "                     'player_2': p2['Player'],\n",
    "                     'player_2_kill_score': p2['KD'],\n",
    "                     'total_score': (p1['KD'] + p2['KD']),\n",
    "                     'lobby': l['name'],\n",
    "                     'lobby_score': l['score']})"
   ]
  },
  {
   "cell_type": "code",
   "execution_count": 11,
   "id": "c5f01b21",
   "metadata": {},
   "outputs": [],
   "source": [
    "df_final = pd.DataFrame(final_op)"
   ]
  },
  {
   "cell_type": "code",
   "execution_count": 12,
   "id": "f26443e8",
   "metadata": {
    "scrolled": true
   },
   "outputs": [
    {
     "data": {
      "text/plain": [
       "A    104\n",
       "B    100\n",
       "C     96\n",
       "Name: lobby, dtype: int64"
      ]
     },
     "execution_count": 12,
     "metadata": {},
     "output_type": "execute_result"
    }
   ],
   "source": [
    "df_final['lobby'].value_counts()"
   ]
  },
  {
   "cell_type": "code",
   "execution_count": 13,
   "id": "d07d0f9b",
   "metadata": {},
   "outputs": [
    {
     "data": {
      "text/html": [
       "<div>\n",
       "<style scoped>\n",
       "    .dataframe tbody tr th:only-of-type {\n",
       "        vertical-align: middle;\n",
       "    }\n",
       "\n",
       "    .dataframe tbody tr th {\n",
       "        vertical-align: top;\n",
       "    }\n",
       "\n",
       "    .dataframe thead th {\n",
       "        text-align: right;\n",
       "    }\n",
       "</style>\n",
       "<table border=\"1\" class=\"dataframe\">\n",
       "  <thead>\n",
       "    <tr style=\"text-align: right;\">\n",
       "      <th></th>\n",
       "      <th>player_1</th>\n",
       "      <th>player_1_kill_score</th>\n",
       "      <th>player_2</th>\n",
       "      <th>player_2_kill_score</th>\n",
       "      <th>total_score</th>\n",
       "      <th>lobby</th>\n",
       "      <th>lobby_score</th>\n",
       "    </tr>\n",
       "  </thead>\n",
       "  <tbody>\n",
       "    <tr>\n",
       "      <th>14</th>\n",
       "      <td>P15</td>\n",
       "      <td>2.157291</td>\n",
       "      <td>P210</td>\n",
       "      <td>2.846651</td>\n",
       "      <td>5.003942</td>\n",
       "      <td>B</td>\n",
       "      <td>5.00</td>\n",
       "    </tr>\n",
       "    <tr>\n",
       "      <th>96</th>\n",
       "      <td>P97</td>\n",
       "      <td>2.399041</td>\n",
       "      <td>P70</td>\n",
       "      <td>2.592140</td>\n",
       "      <td>4.991181</td>\n",
       "      <td>B</td>\n",
       "      <td>5.00</td>\n",
       "    </tr>\n",
       "    <tr>\n",
       "      <th>116</th>\n",
       "      <td>P117</td>\n",
       "      <td>1.464216</td>\n",
       "      <td>P294</td>\n",
       "      <td>2.787445</td>\n",
       "      <td>4.251661</td>\n",
       "      <td>A</td>\n",
       "      <td>4.25</td>\n",
       "    </tr>\n",
       "    <tr>\n",
       "      <th>231</th>\n",
       "      <td>P232</td>\n",
       "      <td>1.806293</td>\n",
       "      <td>P66</td>\n",
       "      <td>2.440846</td>\n",
       "      <td>4.247138</td>\n",
       "      <td>A</td>\n",
       "      <td>4.25</td>\n",
       "    </tr>\n",
       "    <tr>\n",
       "      <th>174</th>\n",
       "      <td>P175</td>\n",
       "      <td>2.718417</td>\n",
       "      <td>P251</td>\n",
       "      <td>3.024878</td>\n",
       "      <td>5.743295</td>\n",
       "      <td>C</td>\n",
       "      <td>5.75</td>\n",
       "    </tr>\n",
       "    <tr>\n",
       "      <th>180</th>\n",
       "      <td>P181</td>\n",
       "      <td>2.806838</td>\n",
       "      <td>P191</td>\n",
       "      <td>1.436427</td>\n",
       "      <td>4.243264</td>\n",
       "      <td>A</td>\n",
       "      <td>4.25</td>\n",
       "    </tr>\n",
       "    <tr>\n",
       "      <th>31</th>\n",
       "      <td>P32</td>\n",
       "      <td>2.816044</td>\n",
       "      <td>P54</td>\n",
       "      <td>1.427121</td>\n",
       "      <td>4.243164</td>\n",
       "      <td>A</td>\n",
       "      <td>4.25</td>\n",
       "    </tr>\n",
       "    <tr>\n",
       "      <th>226</th>\n",
       "      <td>P227</td>\n",
       "      <td>1.445262</td>\n",
       "      <td>P134</td>\n",
       "      <td>2.805601</td>\n",
       "      <td>4.250864</td>\n",
       "      <td>A</td>\n",
       "      <td>4.25</td>\n",
       "    </tr>\n",
       "    <tr>\n",
       "      <th>97</th>\n",
       "      <td>P98</td>\n",
       "      <td>1.475676</td>\n",
       "      <td>P49</td>\n",
       "      <td>3.531070</td>\n",
       "      <td>5.006746</td>\n",
       "      <td>B</td>\n",
       "      <td>5.00</td>\n",
       "    </tr>\n",
       "    <tr>\n",
       "      <th>286</th>\n",
       "      <td>P287</td>\n",
       "      <td>2.995428</td>\n",
       "      <td>P172</td>\n",
       "      <td>2.754931</td>\n",
       "      <td>5.750360</td>\n",
       "      <td>C</td>\n",
       "      <td>5.75</td>\n",
       "    </tr>\n",
       "  </tbody>\n",
       "</table>\n",
       "</div>"
      ],
      "text/plain": [
       "    player_1  player_1_kill_score player_2  player_2_kill_score  total_score  \\\n",
       "14       P15             2.157291     P210             2.846651     5.003942   \n",
       "96       P97             2.399041      P70             2.592140     4.991181   \n",
       "116     P117             1.464216     P294             2.787445     4.251661   \n",
       "231     P232             1.806293      P66             2.440846     4.247138   \n",
       "174     P175             2.718417     P251             3.024878     5.743295   \n",
       "180     P181             2.806838     P191             1.436427     4.243264   \n",
       "31       P32             2.816044      P54             1.427121     4.243164   \n",
       "226     P227             1.445262     P134             2.805601     4.250864   \n",
       "97       P98             1.475676      P49             3.531070     5.006746   \n",
       "286     P287             2.995428     P172             2.754931     5.750360   \n",
       "\n",
       "    lobby  lobby_score  \n",
       "14      B         5.00  \n",
       "96      B         5.00  \n",
       "116     A         4.25  \n",
       "231     A         4.25  \n",
       "174     C         5.75  \n",
       "180     A         4.25  \n",
       "31      A         4.25  \n",
       "226     A         4.25  \n",
       "97      B         5.00  \n",
       "286     C         5.75  "
      ]
     },
     "execution_count": 13,
     "metadata": {},
     "output_type": "execute_result"
    }
   ],
   "source": [
    "df_final.sample(10)"
   ]
  },
  {
   "cell_type": "code",
   "execution_count": 14,
   "id": "562b03c0",
   "metadata": {},
   "outputs": [],
   "source": [
    "df_final.to_csv(\"team_results.csv\", index=False)"
   ]
  },
  {
   "cell_type": "code",
   "execution_count": null,
   "id": "43626766",
   "metadata": {},
   "outputs": [],
   "source": []
  }
 ],
 "metadata": {
  "kernelspec": {
   "display_name": "Python 3 (ipykernel)",
   "language": "python",
   "name": "python3"
  },
  "language_info": {
   "codemirror_mode": {
    "name": "ipython",
    "version": 3
   },
   "file_extension": ".py",
   "mimetype": "text/x-python",
   "name": "python",
   "nbconvert_exporter": "python",
   "pygments_lexer": "ipython3",
   "version": "3.9.16"
  }
 },
 "nbformat": 4,
 "nbformat_minor": 5
}
